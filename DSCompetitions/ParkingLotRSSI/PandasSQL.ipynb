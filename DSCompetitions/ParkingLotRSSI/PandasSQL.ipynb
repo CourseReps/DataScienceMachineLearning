{
 "cells": [
  {
   "cell_type": "markdown",
   "metadata": {},
   "source": [
    "# SQL Databases and Pandas Data Frames\n",
    "\n",
    "For this competition, our data is in an SQLite databse.\n",
    "Databases can be a hassle to work with, but Pandas has a few functions that make I/O with databases very simple.\n",
    "To import the data into a data frame, you will need a few packages, starting with Pandas.\n",
    "Pandas uses SQLAlchemy to interact with SQL databases; if you have Anaconda installed, this should have included the **sqlalchemy** package as well as **pandas**.\n",
    "\n",
    "If your packages are installed, you will first need to use the **sqlalchemy** function **create_engine** to create an sql engine:\n"
   ]
  },
  {
   "cell_type": "code",
   "execution_count": 5,
   "metadata": {
    "collapsed": true
   },
   "outputs": [],
   "source": [
    "import pandas as pd\n",
    "from sqlalchemy import create_engine\n",
    "\n",
    "eng = create_engine('sqlite:///parkinglot_comp.db')"
   ]
  },
  {
   "cell_type": "markdown",
   "metadata": {},
   "source": [
    "Since we are using SQLite, the format for the engine argument in our case is **sqlite:///path_to_database**\n",
    "\n",
    "Our database has 3 tables: **training**, **cross_validation**, and **test**.\n",
    "Next, we can directly read a table from this database into a Pandas data frame using the **pandas** function **read_sql_table** with the name of the table and the engine connected to the table.\n",
    "The following code reads the **training** table and prints the first 5 rows:"
   ]
  },
  {
   "cell_type": "code",
   "execution_count": 6,
   "metadata": {
    "collapsed": false
   },
   "outputs": [
    {
     "name": "stdout",
     "output_type": "stream",
     "text": [
      "    Latitude  Longitude  NUC1  NUC2  NUC3  NUC4\n",
      "0  30.622055 -96.336168   -75   -76   -84   -82\n",
      "1  30.622087 -96.336184   -73   -73   -78   -80\n",
      "2  30.622099 -96.336190   -68   -65   -73   -79\n",
      "3  30.622125 -96.336196   -66   -62   -72   -82\n",
      "4  30.622135 -96.336196   -70   -47   -66   -79\n"
     ]
    }
   ],
   "source": [
    "df = pd.read_sql_table('training', eng)\n",
    "print(df.head())"
   ]
  },
  {
   "cell_type": "markdown",
   "metadata": {},
   "source": [
    "From here, you can mainpulate the data as necessary for training, cross validation, and testing of your model.\n",
    "\n",
    "In order to submit your results for this competition, please output your answers for distances of each wireless device into a CSV file with 4 columns: one for each column in the test table.\n",
    "\n",
    "A Pandas data frame can easily be written to a CSV file with the pandas function **to_csv**:"
   ]
  },
  {
   "cell_type": "code",
   "execution_count": 7,
   "metadata": {
    "collapsed": true
   },
   "outputs": [],
   "source": [
    "df.to_csv('example.csv')"
   ]
  }
 ],
 "metadata": {
  "kernelspec": {
   "display_name": "Python 3",
   "language": "python",
   "name": "python3"
  },
  "language_info": {
   "codemirror_mode": {
    "name": "ipython",
    "version": 3
   },
   "file_extension": ".py",
   "mimetype": "text/x-python",
   "name": "python",
   "nbconvert_exporter": "python",
   "pygments_lexer": "ipython3",
   "version": "3.5.1"
  }
 },
 "nbformat": 4,
 "nbformat_minor": 0
}
