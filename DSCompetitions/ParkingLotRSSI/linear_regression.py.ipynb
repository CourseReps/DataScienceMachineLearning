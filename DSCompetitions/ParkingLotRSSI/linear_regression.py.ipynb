{
 "cells": [
  {
   "cell_type": "code",
   "execution_count": null,
   "metadata": {
    "collapsed": true
   },
   "outputs": [],
   "source": [
    "#Regression form used Y=X*B (where B includes the intercept ) \n",
    "#B found out using B=((X'X)^-1)*X'*Y\n",
    "#X is row vectors of the form [RSSI_1,RSSI_2,RSSI_3,RSSI_3,RSSI_4,1]\n",
    "#Y is a row vectors of log of the distances from NUCs of the form [dist_1,dist_2,dist_3,dist_4]\n"
   ]
  },
  {
   "cell_type": "code",
   "execution_count": 1,
   "metadata": {
    "collapsed": true
   },
   "outputs": [],
   "source": [
    "import pandas as pd\n",
    "import numpy as np\n",
    "import math\n",
    "from sqlalchemy import create_engine\n",
    "def calc_dist(x1,y1,x2,y2):\n",
    "  distance=math.sqrt((x1-x2)**2 + (y1-y2)**2 )\n",
    "  return distance\n",
    "eng= create_engine('sqlite:///new_parkinglot.db')\n",
    "df=pd.read_sql_table('training',eng)\n",
    "#print(calc_dist(1,2,3,4))\n",
    "a=df['NUC1']\n",
    "b=df['NUC2']\n",
    "c=df['NUC3']\n",
    "d=df['NUC4']\n",
    "x=df['LOCX']\n",
    "y=df['LOCY']\n",
    "#print(a)\n",
    "NUC1_XY=[0,0]\n",
    "NUC2_XY=[0,-10]\n",
    "NUC3_XY=[10,-10]\n",
    "NUC4_XY=[10,0]\n",
    "X=[a[0],b[0],c[0],d[0],1]\n",
    "\n",
    "for index in range(1,a.size-1):\n",
    "  X =np.vstack((X,[a[index],b[index],c[index],d[index],1]))\n",
    "#print(X.shape)\n",
    "distance1 = calc_dist(NUC1_XY[0], NUC1_XY[1], x[0], y[0])\n",
    "distance2 = calc_dist(NUC2_XY[0], NUC2_XY[1], x[0], y[0])\n",
    "distance3 = calc_dist(NUC3_XY[0], NUC3_XY[1], x[0], y[0])\n",
    "distance4 = calc_dist(NUC4_XY[0], NUC4_XY[1], x[0], y[0])\n",
    "Y=[distance1,distance2,distance3,distance4]\n",
    "for index in range(1,a.size-1):\n",
    "  distance1=calc_dist(NUC1_XY[0],NUC1_XY[1],x[index],y[index])\n",
    "  distance2 = calc_dist(NUC2_XY[0], NUC2_XY[1], x[index], y[index])\n",
    "  distance3 = calc_dist(NUC3_XY[0], NUC3_XY[1], x[index], y[index])\n",
    "  distanc4 = calc_dist(NUC4_XY[0], NUC4_XY[1], x[index], y[index])\n",
    "  Y=np.vstack((Y,[math.log10(distance1),math.log10(distance2),math.log10(distance3),math.log10(distance4)]))\n",
    "#print(Y.shape)\n",
    "temp1=np.matmul(np.matrix.transpose(X),X)\n",
    "#print(temp1.shape)\n",
    "temp2=np.matmul(np.linalg.inv(temp1),np.matrix.transpose(X))\n",
    "#beta_hat is the parameter used for regression\n",
    "beta_hat=np.matmul(temp2,Y)\n",
    "#print(beta_hat.shape)\n",
    "#using the model on test data\n",
    "df2=pd.read_sql_table('test',eng)\n",
    "a=df2['NUC1']\n",
    "b=df2['NUC2']\n",
    "c=df2['NUC3']\n",
    "d=df2['NUC4']\n",
    "#print(a.size)\n",
    "X_in=[a[0],b[0],c[0],d[0],1]\n",
    "for index in range(1,a.size-1):\n",
    "  X_in =np.vstack((X_in,[a[index],b[index],c[index],d[index],1]))\n",
    "Y_out=np.matmul(X_in,beta_hat)\n",
    "Y_test=10**Y_out\n",
    "NUC1_dist=Y_test[:,0]\n",
    "NUC2_dist=Y_test[:,1]\n",
    "NUC3_dist=Y_test[:,2]\n",
    "NUC4_dist=Y_test[:,3]\n",
    "output=pd.DataFrame({'NUC1':NUC1_dist,'NUC2':NUC2_dist,'NUC3':NUC3_dist,'NUC4':NUC4_dist})\n",
    "output.to_csv(\"test_output_richarddoss.csv\")\n",
    "\n",
    "#Y=[np.ndarray([y0, y1]) for y0, y1 in zip(x,y)]"
   ]
  },
  {
   "cell_type": "code",
   "execution_count": null,
   "metadata": {
    "collapsed": true
   },
   "outputs": [],
   "source": []
  }
 ],
 "metadata": {
  "anaconda-cloud": {},
  "kernelspec": {
   "display_name": "Python [default]",
   "language": "python",
   "name": "python3"
  },
  "language_info": {
   "codemirror_mode": {
    "name": "ipython",
    "version": 3
   },
   "file_extension": ".py",
   "mimetype": "text/x-python",
   "name": "python",
   "nbconvert_exporter": "python",
   "pygments_lexer": "ipython3",
   "version": "3.5.2"
  }
 },
 "nbformat": 4,
 "nbformat_minor": 1
}
