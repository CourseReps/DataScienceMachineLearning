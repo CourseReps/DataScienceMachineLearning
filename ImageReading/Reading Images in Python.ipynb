{
 "cells": [
  {
   "cell_type": "markdown",
   "metadata": {},
   "source": [
    "# Reading images in Python\n",
    "\n",
    "For this notebook, you will need the Python Imaging Library, PIL, installed.\n",
    "This allows you to easily import images and manipulate the data in Python.\n",
    "\n",
    "The first thing you will need to do is import the Image module from PIL, as well as NumPy for easy data manipulation:"
   ]
  },
  {
   "cell_type": "code",
   "execution_count": null,
   "metadata": {
    "collapsed": false
   },
   "outputs": [],
   "source": [
    "from PIL import Image\n",
    "import numpy as np\n"
   ]
  },
  {
   "cell_type": "markdown",
   "metadata": {},
   "source": [
    "From here, there is a very simple command to import an image by its path. \n",
    "Most commonly used image formats, in our case particularly PNG and JPEG, are read in without any extra work:"
   ]
  },
  {
   "cell_type": "code",
   "execution_count": null,
   "metadata": {
    "collapsed": false
   },
   "outputs": [],
   "source": [
    "im = Image.open('cameraman.png')\n",
    "im.show()"
   ]
  },
  {
   "cell_type": "markdown",
   "metadata": {},
   "source": [
    "Next, you can use the getdata() function to get the numerical values for pixels. \n",
    "This data object can then be converted to a Python list or a NumPy array."
   ]
  },
  {
   "cell_type": "code",
   "execution_count": null,
   "metadata": {
    "collapsed": false
   },
   "outputs": [],
   "source": [
    "imlist = list(im.getdata())\n",
    "print(imlist[0:10])\n",
    "imarray = np.array(im.getdata())\n",
    "print(imarray[0:10])"
   ]
  },
  {
   "cell_type": "markdown",
   "metadata": {},
   "source": [
    "You may notice that this list or array is one-dimensional.\n",
    "If this image were RGB, there would be a tuple of 3 values for each element in the list or array.\n",
    "However, this still would be an essentially one-dimensional representation of a two-dimensional image.\n",
    "This can easily be resolved by using NumPy's reshape command, combined with the size attribute of the original Image object."
   ]
  },
  {
   "cell_type": "code",
   "execution_count": null,
   "metadata": {
    "collapsed": false
   },
   "outputs": [],
   "source": [
    "print(im.size)\n",
    "imarray2d = np.reshape(imarray, im.size)\n",
    "print(imarray2d)\n",
    "imlist2d = np.reshape(imlist, im.size)\n",
    "print(imlist2d)"
   ]
  },
  {
   "cell_type": "markdown",
   "metadata": {
    "collapsed": true
   },
   "source": [
    "For the sake of clarity, here you can see the same process using NumPy arrays for a color JPEG image.\n",
    "The process is the same, but a little different process is used for reshaping.\n",
    "This is because the size attribute refers to the number of pixels in each dimension. So, to reshape this properly you need to add the third dimension, which will be of size 3."
   ]
  },
  {
   "cell_type": "code",
   "execution_count": null,
   "metadata": {
    "collapsed": false
   },
   "outputs": [],
   "source": [
    "imcolor = Image.open('smile.jpeg')\n",
    "imcolorarray = np.array(imcolor)\n",
    "print(imcolor.size)\n",
    "imcolorarray2d = np.reshape(imcolorarray, [imcolor.size[0],imcolor.size[1], 3])\n",
    "print(imcolorarray2d)"
   ]
  },
  {
   "cell_type": "markdown",
   "metadata": {},
   "source": [
    "You can also use the Image module of PIL to reconstruct an image from an array or list:"
   ]
  },
  {
   "cell_type": "code",
   "execution_count": null,
   "metadata": {
    "collapsed": true
   },
   "outputs": [],
   "source": [
    "newcolorImage = Image.fromarray(imcolorarray2d)\n",
    "newcolorImage.show()"
   ]
  },
  {
   "cell_type": "markdown",
   "metadata": {},
   "source": [
    "Finally, these images can be exported to real image files using the write command.\n",
    "The file extension automatically determines the file type to be written.\n",
    "You can also use a file pointer or handle rather than a filename as the argument."
   ]
  },
  {
   "cell_type": "code",
   "execution_count": null,
   "metadata": {
    "collapsed": false
   },
   "outputs": [],
   "source": [
    "newcolorImage.save('new.jpg')\n",
    "newcolorImage.save('new.png')"
   ]
  }
 ],
 "metadata": {
  "kernelspec": {
   "display_name": "Python 3",
   "language": "python",
   "name": "python3"
  },
  "language_info": {
   "codemirror_mode": {
    "name": "ipython",
    "version": 3
   },
   "file_extension": ".py",
   "mimetype": "text/x-python",
   "name": "python",
   "nbconvert_exporter": "python",
   "pygments_lexer": "ipython3",
   "version": "3.5.1"
  }
 },
 "nbformat": 4,
 "nbformat_minor": 0
}
