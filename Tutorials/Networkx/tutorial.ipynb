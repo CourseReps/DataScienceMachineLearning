{
 "cells": [
  {
   "cell_type": "code",
   "execution_count": 4,
   "metadata": {
    "collapsed": true
   },
   "outputs": [],
   "source": [
    "import networkx as nx\n",
    "G = nx.Graph()"
   ]
  },
  {
   "cell_type": "code",
   "execution_count": null,
   "metadata": {
    "collapsed": false
   },
   "outputs": [],
   "source": [
    "#Adding Nodes\n",
    "G.add_node('a')\n",
    "G.add_node(1)\n",
    "G.nodes()"
   ]
  },
  {
   "cell_type": "code",
   "execution_count": null,
   "metadata": {
    "collapsed": false
   },
   "outputs": [],
   "source": [
    "#Adding multiple nodes \n",
    "G.add_nodes_from(['a','b','c',1,2,3])\n",
    "G.nodes()"
   ]
  },
  {
   "cell_type": "code",
   "execution_count": null,
   "metadata": {
    "collapsed": false
   },
   "outputs": [],
   "source": [
    "#Adding edges\n",
    "G.add_edge(1,2)\n",
    "G.add_edge(1,'d')\n",
    "G.add_edges_from([(1,'a'),(1,'c')])\n",
    "G.edges()"
   ]
  },
  {
   "cell_type": "code",
   "execution_count": null,
   "metadata": {
    "collapsed": false
   },
   "outputs": [],
   "source": [
    "#Removing Nodes and Edges\n",
    "G.remove_node('d')\n",
    "G.remove_edge(1,'a')\n",
    "G.edges()"
   ]
  },
  {
   "cell_type": "code",
   "execution_count": null,
   "metadata": {
    "collapsed": false
   },
   "outputs": [],
   "source": [
    "#Remove everything\n",
    "G.clear()\n",
    "print(nx.info(G))"
   ]
  },
  {
   "cell_type": "code",
   "execution_count": null,
   "metadata": {
    "collapsed": false
   },
   "outputs": [],
   "source": [
    "#Attributes\n",
    "G.graph['Name'] = \"Example Graph\"\n",
    "G.add_edge('a','b',weight = .5,color = 'blue')\n",
    "G['a']['b']['color']"
   ]
  },
  {
   "cell_type": "code",
   "execution_count": null,
   "metadata": {
    "collapsed": false
   },
   "outputs": [],
   "source": [
    "#Attributes cont.\n",
    "G['a']['month'] = 'April'\n",
    "G['a']['month']"
   ]
  },
  {
   "cell_type": "code",
   "execution_count": null,
   "metadata": {
    "collapsed": false
   },
   "outputs": [],
   "source": [
    "#Custom Node implementation \n",
    "from datetime import date\n",
    "class DateNode:\n",
    "    def __init__(self,month, day, year):\n",
    "        self.month = month\n",
    "        self.day = day\n",
    "        self.year = year\n",
    "    def get_date(self):\n",
    "        d = date(self.year,self.month,self.day)\n",
    "        return d"
   ]
  },
  {
   "cell_type": "code",
   "execution_count": null,
   "metadata": {
    "collapsed": false
   },
   "outputs": [],
   "source": [
    "#Using custom nodes\n",
    "G.clear()\n",
    "date_node1 = DateNode(12,4,1992)\n",
    "G.add_node(date_node1)\n",
    "date_node2 = DateNode(1,1,2017)\n",
    "G.add_node(date_node2)\n",
    "G.nodes()"
   ]
  },
  {
   "cell_type": "code",
   "execution_count": null,
   "metadata": {
    "collapsed": false
   },
   "outputs": [],
   "source": [
    "#Iterating \n",
    "for node in G.nodes_iter():\n",
    "    print(node.get_date())"
   ]
  },
  {
   "cell_type": "code",
   "execution_count": null,
   "metadata": {
    "collapsed": false
   },
   "outputs": [],
   "source": [
    "#Works the same way\n",
    "G.add_edge(date_node1,date_node2,weight = .5)\n",
    "G.edges()"
   ]
  },
  {
   "cell_type": "code",
   "execution_count": null,
   "metadata": {
    "collapsed": false
   },
   "outputs": [],
   "source": [
    "#Graph Generators and Typical Functions\n",
    "G = nx.random_lobster(100,.5,.5)\n",
    "print(nx.info(G))\n",
    "print(nx.density(G))\n",
    "print(G.neighbors(22))\n",
    "print(nx.shortest_path(G,1,50))"
   ]
  },
  {
   "cell_type": "code",
   "execution_count": null,
   "metadata": {
    "collapsed": false
   },
   "outputs": [],
   "source": [
    "#Finding Cliques\n",
    "from networkx.algorithms.approximation import clique\n",
    "G = nx.complete_graph(10)\n",
    "print(nx.info(G))\n",
    "clique.max_clique(G)\n"
   ]
  },
  {
   "cell_type": "code",
   "execution_count": null,
   "metadata": {
    "collapsed": false
   },
   "outputs": [],
   "source": [
    "#Writing to file\n",
    "G = nx.powerlaw_cluster_graph(100, 5, .7)\n",
    "print(nx.info(G))\n",
    "nx.write_edgelist(G,'test.edgelist')\n",
    "G.clear()"
   ]
  },
  {
   "cell_type": "code",
   "execution_count": null,
   "metadata": {
    "collapsed": false
   },
   "outputs": [],
   "source": [
    "#Reading from file\n",
    "G = nx.read_edgelist('test.edgelist')\n",
    "print(nx.info(G))"
   ]
  },
  {
   "cell_type": "code",
   "execution_count": null,
   "metadata": {
    "collapsed": true
   },
   "outputs": [],
   "source": []
  }
 ],
 "metadata": {
  "kernelspec": {
   "display_name": "Python 3",
   "language": "python",
   "name": "python3"
  },
  "language_info": {
   "codemirror_mode": {
    "name": "ipython",
    "version": 3
   },
   "file_extension": ".py",
   "mimetype": "text/x-python",
   "name": "python",
   "nbconvert_exporter": "python",
   "pygments_lexer": "ipython3",
   "version": "3.5.1"
  }
 },
 "nbformat": 4,
 "nbformat_minor": 0
}
